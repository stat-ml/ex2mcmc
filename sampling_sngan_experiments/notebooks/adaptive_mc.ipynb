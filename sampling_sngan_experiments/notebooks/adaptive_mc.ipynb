{
 "cells": [
  {
   "cell_type": "code",
   "execution_count": 1,
   "metadata": {},
   "outputs": [],
   "source": [
    "%load_ext autoreload\n",
    "%autoreload 2"
   ]
  },
  {
   "cell_type": "code",
   "execution_count": 2,
   "metadata": {},
   "outputs": [],
   "source": [
    "import numpy as np\n",
    "import random\n",
    "from tqdm import tqdm\n",
    "\n",
    "from matplotlib import pyplot as plt\n"
   ]
  },
  {
   "cell_type": "code",
   "execution_count": 5,
   "metadata": {},
   "outputs": [],
   "source": [
    "from iterative_sir.toy_examples_utils import prepare_25gaussian_data\n",
    "from iterative_sir.sampling_utils.adaptive_mc import adaptive_sir_correlated_dynamics, ex2_mcmc_mala\n",
    "from iterative_sir.sampling_utils.sir_ais_sampling import sir_correlated_dynamics\n",
    "from iterative_sir.sampling_utils.adaptive_sir_loss import *\n",
    "\n",
    "from iterative_sir.sampling_utils.flows import RNVP\n",
    "\n",
    "\n",
    "from iterative_sir.sampling_utils.distributions import (Distribution, \n",
    "                           GaussianMixture, \n",
    "                           IndependentNormal,\n",
    "                           init_independent_normal)\n",
    "\n",
    "from iterative_sir.toy_examples_utils.params_25gaussians import (sigma,\n",
    "                                random_seed,\n",
    "                                train_dataset_size,\n",
    "                                n_dim,\n",
    "                                device)\n"
   ]
  },
  {
   "cell_type": "code",
   "execution_count": 4,
   "metadata": {},
   "outputs": [],
   "source": [
    "from pathlib import Path\n",
    "figpath = Path('../figs')"
   ]
  },
  {
   "cell_type": "markdown",
   "metadata": {},
   "source": [
    "# 2D Gaussians, true distribution"
   ]
  },
  {
   "cell_type": "code",
   "execution_count": 5,
   "metadata": {},
   "outputs": [],
   "source": [
    "from sklearn.preprocessing import StandardScaler\n",
    "\n",
    "# torch.manual_seed(random_seed)\n",
    "# np.random.seed(random_seed)\n",
    "# random.seed(random_seed)\n",
    "\n",
    "X_train, means = prepare_25gaussian_data(train_dataset_size,\n",
    "                                         sigma, \n",
    "                                         random_seed)\n",
    "\n",
    "scaler = StandardScaler()\n",
    "X_train_std = scaler.fit_transform(X_train)"
   ]
  },
  {
   "cell_type": "code",
   "execution_count": 6,
   "metadata": {},
   "outputs": [],
   "source": [
    "n_dim = 5\n",
    "target_args = edict()\n",
    "target_args.device = device\n",
    "target_args.num_gauss = 25\n",
    "n_col = 5\n",
    "n_row = target_args.num_gauss // n_col\n",
    "s = 1\n",
    "###create points\n",
    "coef_gaussian = 1./target_args.num_gauss\n",
    "target_args.p_gaussians = [torch.tensor(coef_gaussian)]*target_args.num_gauss\n",
    "locs = [torch.tensor([(i-2)*s,(j-2)*s] + [0]* (n_dim - 2)).to(device) \n",
    "        for i in range(n_col) for j in range(n_row)]\n",
    "target_args.locs = locs\n",
    "target_args.covs = [(sigma**2)*torch.eye(n_dim).to(device)]*target_args.num_gauss\n",
    "target_args.dim = n_dim\n",
    "true_target = Gaussian_mixture(target_args).log_prob\n",
    "\n",
    "\n",
    "loc_proposal = torch.zeros(n_dim).to(device)\n",
    "scale_proposal = 0.5 * torch.ones(n_dim).to(device) #3*torch.ones(n_dim).to(device)\n",
    "proposal_args = edict()\n",
    "proposal_args.device = device\n",
    "proposal_args.loc = loc_proposal\n",
    "proposal_args.scale = scale_proposal\n",
    "proposal = IndependentNormal(proposal_args)"
   ]
  },
  {
   "cell_type": "code",
   "execution_count": 7,
   "metadata": {},
   "outputs": [],
   "source": [
    "evols = dict()"
   ]
  },
  {
   "cell_type": "code",
   "execution_count": 8,
   "metadata": {},
   "outputs": [],
   "source": [
    "true_target_energy = Gaussian_mixture(target_args).energy\n",
    "\n",
    "x_range = 3.0\n",
    "y_range = 3.0\n",
    "norm_grads = False"
   ]
  },
  {
   "cell_type": "code",
   "execution_count": 9,
   "metadata": {},
   "outputs": [],
   "source": [
    "batch_size = 100\n",
    "lr = 1e-3\n",
    "N_optim = 1000\n",
    "start_optim = 10\n",
    "n_steps = 1\n",
    "num_flows = 4"
   ]
  },
  {
   "cell_type": "code",
   "execution_count": 10,
   "metadata": {},
   "outputs": [
    {
     "name": "stderr",
     "output_type": "stream",
     "text": [
      "  0%|          | 2/1000 [00:00<02:20,  7.12it/s]"
     ]
    },
    {
     "name": "stdout",
     "output_type": "stream",
     "text": [
      "-52.452, 6.814\n"
     ]
    },
    {
     "name": "stderr",
     "output_type": "stream",
     "text": [
      " 10%|█         | 101/1000 [00:14<02:58,  5.03it/s]"
     ]
    },
    {
     "name": "stdout",
     "output_type": "stream",
     "text": [
      "3.139, 3.756\n"
     ]
    },
    {
     "name": "stderr",
     "output_type": "stream",
     "text": [
      " 20%|██        | 202/1000 [00:25<01:28,  8.98it/s]"
     ]
    },
    {
     "name": "stdout",
     "output_type": "stream",
     "text": [
      "5.131, 2.484\n"
     ]
    },
    {
     "name": "stderr",
     "output_type": "stream",
     "text": [
      " 30%|███       | 302/1000 [00:36<01:24,  8.23it/s]"
     ]
    },
    {
     "name": "stdout",
     "output_type": "stream",
     "text": [
      "5.232, 1.514\n"
     ]
    },
    {
     "name": "stderr",
     "output_type": "stream",
     "text": [
      " 40%|████      | 402/1000 [00:46<01:20,  7.39it/s]"
     ]
    },
    {
     "name": "stdout",
     "output_type": "stream",
     "text": [
      "5.536, 1.502\n"
     ]
    },
    {
     "name": "stderr",
     "output_type": "stream",
     "text": [
      " 50%|█████     | 501/1000 [00:58<01:08,  7.33it/s]"
     ]
    },
    {
     "name": "stdout",
     "output_type": "stream",
     "text": [
      "5.567, 1.288\n"
     ]
    },
    {
     "name": "stderr",
     "output_type": "stream",
     "text": [
      " 60%|██████    | 603/1000 [01:09<00:29, 13.40it/s]"
     ]
    },
    {
     "name": "stdout",
     "output_type": "stream",
     "text": [
      "5.756, 1.529\n"
     ]
    },
    {
     "name": "stderr",
     "output_type": "stream",
     "text": [
      " 70%|███████   | 704/1000 [01:13<00:13, 22.74it/s]"
     ]
    },
    {
     "name": "stdout",
     "output_type": "stream",
     "text": [
      "5.832, 1.613\n"
     ]
    },
    {
     "name": "stderr",
     "output_type": "stream",
     "text": [
      " 80%|████████  | 803/1000 [01:18<00:08, 24.57it/s]"
     ]
    },
    {
     "name": "stdout",
     "output_type": "stream",
     "text": [
      "5.944, 1.836\n"
     ]
    },
    {
     "name": "stderr",
     "output_type": "stream",
     "text": [
      " 90%|█████████ | 903/1000 [01:22<00:04, 22.36it/s]"
     ]
    },
    {
     "name": "stdout",
     "output_type": "stream",
     "text": [
      "5.878, 1.683\n"
     ]
    },
    {
     "name": "stderr",
     "output_type": "stream",
     "text": [
      "100%|██████████| 1000/1000 [01:26<00:00, 11.51it/s]\n"
     ]
    }
   ],
   "source": [
    "loss = \"mix_kl\"  #\"backward_kl\" #\"mix_kl\" \n",
    "loss_function = get_loss(loss)\n",
    "flow = RNVP(num_flows=num_flows, dim = n_dim)\n",
    "optimizer = get_optimizer(flow.parameters(), optimizer = \"Adam\", lr=lr, weight_decay=1e-4)\n",
    "\n",
    "z_0 = proposal.sample((batch_size,))\n",
    "\n",
    "# N_optim = 100\n",
    "alpha = 0.  #0.1\n",
    "# n_steps = 10\n",
    "N = 10\n",
    "\n",
    "#n_total = 100\n",
    "resample_every = 10\n",
    "\n",
    "z_ = z_0.clone()\n",
    "do_refresh = False #True\n",
    "\n",
    "sample = []\n",
    "\n",
    "for i in tqdm(range(N_optim)):\n",
    "    if i == 0:\n",
    "        z_0 = proposal.sample((batch_size,))\n",
    "        z_ = z_0\n",
    "    elif do_refresh:\n",
    "        # refresh\n",
    "        p = 0.5 #1.0 #0.1 #1.0\n",
    "        sz = np.random.binomial(batch_size, p, 1)[0]\n",
    "        z_0 = proposal.sample((sz,))\n",
    "        if batch_size - sz > 0:\n",
    "            ids = np.random.choice(np.arange(batch_size), batch_size - sz)\n",
    "            old = zl[-1][ids] #.detach()\n",
    "            inv_old, _ = flow.inverse(old)\n",
    "            z_ = torch.cat([z_0, inv_old], 0)\n",
    "        else:\n",
    "            z_ = z_0\n",
    "    else:\n",
    "        z_ = zl[-1] #.detach()\n",
    "        z_, _ = flow.inverse(z_)\n",
    "\n",
    "    # if i % resample_every:\n",
    "    #     #z_0 = proposal.sample((batch_size,))\n",
    "    #     z_, _ = flow.inverse(z_)\n",
    "    #     zl = adaptive_sir_correlated_dynamics(z_, true_target, proposal, n_steps, N, 0., flow)\n",
    "    # else:\n",
    "    #     zl = sir_correlated_dynamics(z_, true_target, proposal, n_steps, N, alpha) #, None)\n",
    "    \n",
    "    zl = adaptive_sir_correlated_dynamics(z_, true_target, proposal, n_steps, N, alpha, flow)\n",
    "\n",
    "    z_ = zl[-1]\n",
    "    loss, grad_loss = loss_function(true_target, proposal, flow, z_)\n",
    "    sample.append(z_.detach().numpy())\n",
    "\n",
    "    if i%100 == 0:\n",
    "        print(f'{loss.item():.3f}, {grad_loss:.3f}')\n",
    "\n",
    "    if i > start_optim:\n",
    "        optimizer.zero_grad()\n",
    "        grad_loss.backward()\n",
    "        optimizer.step()\n",
    "sample = np.array(sample).reshape(-1,n_dim)"
   ]
  },
  {
   "cell_type": "code",
   "execution_count": 11,
   "metadata": {},
   "outputs": [
    {
     "data": {
      "text/plain": [
       "<matplotlib.collections.PathCollection at 0x7f6e66144c40>"
      ]
     },
     "execution_count": 11,
     "metadata": {},
     "output_type": "execute_result"
    },
    {
     "data": {
      "image/png": "[encoded data removed]",
      "text/plain": [
       "<Figure size 432x288 with 1 Axes>"
      ]
     },
     "metadata": {
      "needs_background": "light"
     },
     "output_type": "display_data"
    }
   ],
   "source": [
    "z_0 = proposal.sample((500,))\n",
    "out, _ = flow(z_0)\n",
    "\n",
    "out = out.detach()\n",
    "\n",
    "plt.scatter(z_0[:, 0], z_0[:, 1], c='b')\n",
    "plt.scatter(out[:, 0], out[:, 1], c='r')"
   ]
  },
  {
   "cell_type": "code",
   "execution_count": 12,
   "metadata": {},
   "outputs": [],
   "source": [
    "def plot_sample(sample, name=None):\n",
    "    plt.figure()\n",
    "    plt.xlim(-3., 3.)\n",
    "    plt.ylim(-3., 3.)\n",
    "    if name is not None:\n",
    "        plt.title(f\"Training and Adapt_MC_NF samples\", fontsize=20)\n",
    "    plt.scatter(sample[-5000:,0], sample[-5000:,1], alpha=0.3, color='gray', \n",
    "                marker='o') #, label = 'training samples')\n",
    "    label = 'Adapt_MC_NF samples'\n",
    "\n",
    "    #plt.scatter(fake[:,:1], fake[:,1:], alpha=0.3, color='blue', \n",
    "    #            marker='o', label = label)\n",
    "    plt.legend()\n",
    "    plt.grid(True)\n",
    "    plt.show()"
   ]
  },
  {
   "cell_type": "code",
   "execution_count": 13,
   "metadata": {},
   "outputs": [
    {
     "name": "stderr",
     "output_type": "stream",
     "text": [
      "No handles with labels found to put in legend.\n"
     ]
    },
    {
     "data": {
      "image/png": "[encoded data removed]",
      "text/plain": [
       "<Figure size 432x288 with 1 Axes>"
      ]
     },
     "metadata": {
      "needs_background": "light"
     },
     "output_type": "display_data"
    }
   ],
   "source": [
    "plot_sample(sample)"
   ]
  },
  {
   "cell_type": "code",
   "execution_count": 14,
   "metadata": {},
   "outputs": [],
   "source": [
    "alpha = 0.9\n",
    "\n",
    "z_ = proposal.sample((batch_size,))\n",
    "zl = adaptive_sir_correlated_dynamics(z_, true_target, proposal, 1000, N, alpha, flow)\n",
    "sample = np.array([_.detach().numpy() for _ in zl]).reshape(-1, n_dim)"
   ]
  },
  {
   "cell_type": "code",
   "execution_count": 15,
   "metadata": {},
   "outputs": [
    {
     "name": "stderr",
     "output_type": "stream",
     "text": [
      "No handles with labels found to put in legend.\n"
     ]
    },
    {
     "data": {
      "image/png": "[encoded data removed]",
      "text/plain": [
       "<Figure size 432x288 with 1 Axes>"
      ]
     },
     "metadata": {
      "needs_background": "light"
     },
     "output_type": "display_data"
    }
   ],
   "source": [
    "plot_sample(sample)"
   ]
  },
  {
   "cell_type": "code",
   "execution_count": 16,
   "metadata": {
    "tags": []
   },
   "outputs": [
    {
     "name": "stderr",
     "output_type": "stream",
     "text": [
      "  0%|          | 4/1000 [00:00<01:37, 10.25it/s]"
     ]
    },
    {
     "name": "stdout",
     "output_type": "stream",
     "text": [
      "-61.756, 4.973, 0.000\n"
     ]
    },
    {
     "name": "stderr",
     "output_type": "stream",
     "text": [
      "  3%|▎         | 29/1000 [00:01<00:58, 16.50it/s]"
     ]
    },
    {
     "name": "stdout",
     "output_type": "stream",
     "text": [
      "7.476, 4.828, 0.460\n"
     ]
    },
    {
     "name": "stderr",
     "output_type": "stream",
     "text": [
      "  5%|▌         | 53/1000 [00:03<01:03, 14.89it/s]"
     ]
    },
    {
     "name": "stdout",
     "output_type": "stream",
     "text": [
      "8.211, 3.497, 0.450\n"
     ]
    },
    {
     "name": "stderr",
     "output_type": "stream",
     "text": [
      "  8%|▊         | 79/1000 [00:04<00:53, 17.37it/s]"
     ]
    },
    {
     "name": "stdout",
     "output_type": "stream",
     "text": [
      "7.279, 2.610, 0.490\n"
     ]
    },
    {
     "name": "stderr",
     "output_type": "stream",
     "text": [
      " 10%|█         | 103/1000 [00:06<00:50, 17.69it/s]"
     ]
    },
    {
     "name": "stdout",
     "output_type": "stream",
     "text": [
      "6.044, 1.603, 0.530\n"
     ]
    },
    {
     "name": "stderr",
     "output_type": "stream",
     "text": [
      " 13%|█▎        | 129/1000 [00:07<00:49, 17.57it/s]"
     ]
    },
    {
     "name": "stdout",
     "output_type": "stream",
     "text": [
      "5.996, 1.394, 0.400\n"
     ]
    },
    {
     "name": "stderr",
     "output_type": "stream",
     "text": [
      " 15%|█▌        | 153/1000 [00:09<01:25,  9.95it/s]"
     ]
    },
    {
     "name": "stdout",
     "output_type": "stream",
     "text": [
      "5.464, 1.047, 0.420\n"
     ]
    },
    {
     "name": "stderr",
     "output_type": "stream",
     "text": [
      " 18%|█▊        | 176/1000 [00:12<01:05, 12.58it/s]"
     ]
    },
    {
     "name": "stdout",
     "output_type": "stream",
     "text": [
      "5.402, 0.749, 0.520\n"
     ]
    },
    {
     "name": "stderr",
     "output_type": "stream",
     "text": [
      " 20%|██        | 200/1000 [00:14<01:20,  9.96it/s]"
     ]
    },
    {
     "name": "stdout",
     "output_type": "stream",
     "text": [
      "4.992, 0.571, 0.480\n"
     ]
    },
    {
     "name": "stderr",
     "output_type": "stream",
     "text": [
      " 23%|██▎       | 227/1000 [00:20<01:33,  8.23it/s]"
     ]
    },
    {
     "name": "stdout",
     "output_type": "stream",
     "text": [
      "5.261, 0.562, 0.390\n"
     ]
    },
    {
     "name": "stderr",
     "output_type": "stream",
     "text": [
      " 25%|██▌       | 253/1000 [00:24<01:42,  7.28it/s]"
     ]
    },
    {
     "name": "stdout",
     "output_type": "stream",
     "text": [
      "5.093, 0.409, 0.460\n"
     ]
    },
    {
     "name": "stderr",
     "output_type": "stream",
     "text": [
      " 28%|██▊       | 276/1000 [00:27<01:20,  8.95it/s]"
     ]
    },
    {
     "name": "stdout",
     "output_type": "stream",
     "text": [
      "4.787, 0.295, 0.470\n"
     ]
    },
    {
     "name": "stderr",
     "output_type": "stream",
     "text": [
      " 30%|███       | 301/1000 [00:31<02:47,  4.17it/s]"
     ]
    },
    {
     "name": "stdout",
     "output_type": "stream",
     "text": [
      "5.191, 0.474, 0.510\n"
     ]
    },
    {
     "name": "stderr",
     "output_type": "stream",
     "text": [
      " 33%|███▎      | 327/1000 [00:36<01:45,  6.40it/s]"
     ]
    },
    {
     "name": "stdout",
     "output_type": "stream",
     "text": [
      "4.953, 0.504, 0.420\n"
     ]
    },
    {
     "name": "stderr",
     "output_type": "stream",
     "text": [
      " 35%|███▌      | 352/1000 [00:39<01:31,  7.10it/s]"
     ]
    },
    {
     "name": "stdout",
     "output_type": "stream",
     "text": [
      "5.494, 0.652, 0.350\n"
     ]
    },
    {
     "name": "stderr",
     "output_type": "stream",
     "text": [
      " 38%|███▊      | 377/1000 [00:43<01:28,  7.04it/s]"
     ]
    },
    {
     "name": "stdout",
     "output_type": "stream",
     "text": [
      "5.425, 0.672, 0.480\n"
     ]
    },
    {
     "name": "stderr",
     "output_type": "stream",
     "text": [
      " 40%|████      | 402/1000 [00:46<01:26,  6.94it/s]"
     ]
    },
    {
     "name": "stdout",
     "output_type": "stream",
     "text": [
      "5.848, 1.225, 0.460\n"
     ]
    },
    {
     "name": "stderr",
     "output_type": "stream",
     "text": [
      " 43%|████▎     | 427/1000 [00:50<01:22,  6.95it/s]"
     ]
    },
    {
     "name": "stdout",
     "output_type": "stream",
     "text": [
      "6.009, 1.406, 0.490\n"
     ]
    },
    {
     "name": "stderr",
     "output_type": "stream",
     "text": [
      " 45%|████▌     | 452/1000 [00:53<01:19,  6.91it/s]"
     ]
    },
    {
     "name": "stdout",
     "output_type": "stream",
     "text": [
      "5.622, 1.109, 0.410\n"
     ]
    },
    {
     "name": "stderr",
     "output_type": "stream",
     "text": [
      " 48%|████▊     | 477/1000 [00:57<01:12,  7.17it/s]"
     ]
    },
    {
     "name": "stdout",
     "output_type": "stream",
     "text": [
      "5.862, 1.157, 0.400\n"
     ]
    },
    {
     "name": "stderr",
     "output_type": "stream",
     "text": [
      " 50%|█████     | 502/1000 [01:01<01:04,  7.71it/s]"
     ]
    },
    {
     "name": "stdout",
     "output_type": "stream",
     "text": [
      "5.886, 1.391, 0.410\n"
     ]
    },
    {
     "name": "stderr",
     "output_type": "stream",
     "text": [
      " 53%|█████▎    | 527/1000 [01:04<01:14,  6.38it/s]"
     ]
    },
    {
     "name": "stdout",
     "output_type": "stream",
     "text": [
      "5.897, 1.363, 0.490\n"
     ]
    },
    {
     "name": "stderr",
     "output_type": "stream",
     "text": [
      " 55%|█████▌    | 552/1000 [01:09<00:49,  9.10it/s]"
     ]
    },
    {
     "name": "stdout",
     "output_type": "stream",
     "text": [
      "6.108, 1.596, 0.420\n"
     ]
    },
    {
     "name": "stderr",
     "output_type": "stream",
     "text": [
      " 58%|█████▊    | 577/1000 [01:12<00:59,  7.05it/s]"
     ]
    },
    {
     "name": "stdout",
     "output_type": "stream",
     "text": [
      "5.954, 1.525, 0.480\n"
     ]
    },
    {
     "name": "stderr",
     "output_type": "stream",
     "text": [
      " 60%|██████    | 602/1000 [01:15<00:52,  7.63it/s]"
     ]
    },
    {
     "name": "stdout",
     "output_type": "stream",
     "text": [
      "5.999, 1.255, 0.440\n"
     ]
    },
    {
     "name": "stderr",
     "output_type": "stream",
     "text": [
      " 63%|██████▎   | 626/1000 [01:20<01:10,  5.31it/s]"
     ]
    },
    {
     "name": "stdout",
     "output_type": "stream",
     "text": [
      "6.084, 1.495, 0.420\n"
     ]
    },
    {
     "name": "stderr",
     "output_type": "stream",
     "text": [
      " 65%|██████▌   | 651/1000 [01:26<01:15,  4.63it/s]"
     ]
    },
    {
     "name": "stdout",
     "output_type": "stream",
     "text": [
      "6.129, 1.451, 0.470\n"
     ]
    },
    {
     "name": "stderr",
     "output_type": "stream",
     "text": [
      " 68%|██████▊   | 677/1000 [01:30<00:50,  6.44it/s]"
     ]
    },
    {
     "name": "stdout",
     "output_type": "stream",
     "text": [
      "5.957, 1.545, 0.450\n"
     ]
    },
    {
     "name": "stderr",
     "output_type": "stream",
     "text": [
      " 70%|███████   | 702/1000 [01:35<01:10,  4.22it/s]"
     ]
    },
    {
     "name": "stdout",
     "output_type": "stream",
     "text": [
      "6.362, 1.702, 0.420\n"
     ]
    },
    {
     "name": "stderr",
     "output_type": "stream",
     "text": [
      " 73%|███████▎  | 727/1000 [01:40<00:49,  5.55it/s]"
     ]
    },
    {
     "name": "stdout",
     "output_type": "stream",
     "text": [
      "6.220, 1.579, 0.420\n"
     ]
    },
    {
     "name": "stderr",
     "output_type": "stream",
     "text": [
      " 75%|███████▌  | 751/1000 [01:45<00:56,  4.40it/s]"
     ]
    },
    {
     "name": "stdout",
     "output_type": "stream",
     "text": [
      "6.296, 1.768, 0.370\n"
     ]
    },
    {
     "name": "stderr",
     "output_type": "stream",
     "text": [
      " 78%|███████▊  | 777/1000 [01:50<00:37,  5.89it/s]"
     ]
    },
    {
     "name": "stdout",
     "output_type": "stream",
     "text": [
      "6.479, 1.842, 0.410\n"
     ]
    },
    {
     "name": "stderr",
     "output_type": "stream",
     "text": [
      " 80%|████████  | 801/1000 [01:54<00:37,  5.25it/s]"
     ]
    },
    {
     "name": "stdout",
     "output_type": "stream",
     "text": [
      "6.213, 1.605, 0.600\n"
     ]
    },
    {
     "name": "stderr",
     "output_type": "stream",
     "text": [
      " 83%|████████▎ | 826/1000 [01:59<00:35,  4.89it/s]"
     ]
    },
    {
     "name": "stdout",
     "output_type": "stream",
     "text": [
      "6.199, 1.531, 0.510\n"
     ]
    },
    {
     "name": "stderr",
     "output_type": "stream",
     "text": [
      " 85%|████████▌ | 852/1000 [02:03<00:21,  7.02it/s]"
     ]
    },
    {
     "name": "stdout",
     "output_type": "stream",
     "text": [
      "6.274, 1.534, 0.470\n"
     ]
    },
    {
     "name": "stderr",
     "output_type": "stream",
     "text": [
      " 88%|████████▊ | 877/1000 [02:07<00:23,  5.22it/s]"
     ]
    },
    {
     "name": "stdout",
     "output_type": "stream",
     "text": [
      "6.290, 1.752, 0.450\n"
     ]
    },
    {
     "name": "stderr",
     "output_type": "stream",
     "text": [
      " 90%|█████████ | 902/1000 [02:12<00:13,  7.43it/s]"
     ]
    },
    {
     "name": "stdout",
     "output_type": "stream",
     "text": [
      "6.171, 1.731, 0.410\n"
     ]
    },
    {
     "name": "stderr",
     "output_type": "stream",
     "text": [
      " 93%|█████████▎| 927/1000 [02:15<00:09,  7.96it/s]"
     ]
    },
    {
     "name": "stdout",
     "output_type": "stream",
     "text": [
      "6.166, 1.606, 0.500\n"
     ]
    },
    {
     "name": "stderr",
     "output_type": "stream",
     "text": [
      " 95%|█████████▌| 952/1000 [02:18<00:05,  8.77it/s]"
     ]
    },
    {
     "name": "stdout",
     "output_type": "stream",
     "text": [
      "6.250, 1.795, 0.470\n"
     ]
    },
    {
     "name": "stderr",
     "output_type": "stream",
     "text": [
      " 98%|█████████▊| 977/1000 [02:21<00:02,  8.06it/s]"
     ]
    },
    {
     "name": "stdout",
     "output_type": "stream",
     "text": [
      "5.913, 1.389, 0.430\n"
     ]
    },
    {
     "name": "stderr",
     "output_type": "stream",
     "text": [
      "100%|██████████| 1000/1000 [02:24<00:00,  6.90it/s]\n"
     ]
    }
   ],
   "source": [
    "#from iterative_sir.sampling_utils.adaptive_mc import ex2_mcmc_mala_temp\n",
    "flow = RNVP(num_flows=num_flows, dim = n_dim)\n",
    "loss = \"mix_kl\"  #\"backward_kl\" #\"mix_kl\" \n",
    "loss_function = get_loss(loss)\n",
    "optimizer = get_optimizer(flow.parameters(), optimizer = \"Adam\", lr=lr, weight_decay=1e-4)\n",
    "\n",
    "# N_optim = 100\n",
    "# n_steps = 10\n",
    "N = 10\n",
    "\n",
    "grad_step = 1e-2\n",
    "noise_scale = (2 * grad_step)**.5\n",
    "corr_coef = 0.0\n",
    "bernoulli_prob_corr = 0.0 #0.5\n",
    "\n",
    "do_refresh = False \n",
    "\n",
    "sample = []\n",
    "\n",
    "for i in tqdm(range(N_optim)):\n",
    "    if i == 0:\n",
    "        z_0 = proposal.sample((batch_size,))\n",
    "        z_ = z_0\n",
    "    elif do_refresh:\n",
    "        # refresh\n",
    "        p = 0.9 \n",
    "        sz = np.random.binomial(batch_size, p, 1)[0]\n",
    "        z_0 = proposal.sample((sz,))\n",
    "        if batch_size - sz > 0:\n",
    "            ids = np.random.choice(np.arange(batch_size), batch_size - sz)\n",
    "            old = zl[-1][ids] #.detach()\n",
    "            inv_old, _ = flow.inverse(old)\n",
    "            z_ = torch.cat([z_0, inv_old], 0)\n",
    "        else:\n",
    "            z_ = z_0\n",
    "    else:\n",
    "        z_ = zl[-1] #.detach()\n",
    "        z_, _ = flow.inverse(z_)\n",
    "    \n",
    "    out = ex2_mcmc_mala(z_, true_target, proposal, n_steps, N, \n",
    "                        grad_step=grad_step, noise_scale=noise_scale, \n",
    "                        corr_coef=corr_coef, bernoulli_prob_corr=bernoulli_prob_corr, flow=flow, adapt_stepsize=True, mala_steps=0) #1)\n",
    "    zl = out[0]\n",
    "    grad_step = out[-1]\n",
    "    noise_scale = (2 * grad_step)**.5\n",
    "    acc_rate = out[1]\n",
    "    z_ = zl[-1]\n",
    "\n",
    "    sample.append(z_.detach().numpy())\n",
    "    loss, grad_loss = loss_function(true_target, proposal, flow, z_)\n",
    "    if i%25 == 0:\n",
    "       print(f'{loss.item():.3f}, {grad_loss.item():.3f}, {acc_rate.mean():.3f}')\n",
    "    \n",
    "    if i > start_optim:\n",
    "        optimizer.zero_grad()\n",
    "        grad_loss.backward()\n",
    "        optimizer.step()\n",
    "    \n",
    "sample = np.concatenate(sample, 0)"
   ]
  },
  {
   "cell_type": "code",
   "execution_count": 17,
   "metadata": {},
   "outputs": [
    {
     "data": {
      "text/plain": [
       "<matplotlib.collections.PathCollection at 0x7f6e2412c9a0>"
      ]
     },
     "execution_count": 17,
     "metadata": {},
     "output_type": "execute_result"
    },
    {
     "data": {
      "image/png": "[encoded data removed]",
      "text/plain": [
       "<Figure size 432x288 with 1 Axes>"
      ]
     },
     "metadata": {
      "needs_background": "light"
     },
     "output_type": "display_data"
    }
   ],
   "source": [
    "z_0 = proposal.sample((500,))\n",
    "out, _ = flow(z_0)\n",
    "\n",
    "out = out.detach()\n",
    "\n",
    "plt.scatter(z_0[:, 0], z_0[:, 1], c='b')\n",
    "plt.scatter(out[:, 0], out[:, 1], c='r')"
   ]
  },
  {
   "cell_type": "code",
   "execution_count": 18,
   "metadata": {},
   "outputs": [
    {
     "name": "stderr",
     "output_type": "stream",
     "text": [
      "No handles with labels found to put in legend.\n"
     ]
    },
    {
     "data": {
      "image/png": "[encoded data removed]",
      "text/plain": [
       "<Figure size 432x288 with 1 Axes>"
      ]
     },
     "metadata": {
      "needs_background": "light"
     },
     "output_type": "display_data"
    }
   ],
   "source": [
    "plot_sample(sample)"
   ]
  },
  {
   "cell_type": "code",
   "execution_count": 19,
   "metadata": {},
   "outputs": [
    {
     "name": "stderr",
     "output_type": "stream",
     "text": [
      "100%|██████████| 1000/1000 [00:44<00:00, 22.32it/s]\n"
     ]
    }
   ],
   "source": [
    "corr_coef = 0.5\n",
    "bernoulli_prob_corr = 0.5\n",
    "\n",
    "z_ = proposal.sample((1,))\n",
    "out = ex2_mcmc_mala(z_, true_target, proposal, 1000, N, \n",
    "                        grad_step=grad_step, noise_scale=noise_scale, \n",
    "                        corr_coef=corr_coef, bernoulli_prob_corr=bernoulli_prob_corr, flow=flow, adapt_stepsize=True, verbose=True, mala_steps=1)\n",
    "zl = out[0]\n",
    "zl = zl[-1000:]\n",
    "sample = np.array([_.detach().numpy() for _ in zl]).reshape(-1, n_dim)"
   ]
  },
  {
   "cell_type": "code",
   "execution_count": 20,
   "metadata": {},
   "outputs": [
    {
     "name": "stderr",
     "output_type": "stream",
     "text": [
      "No handles with labels found to put in legend.\n"
     ]
    },
    {
     "data": {
      "image/png": "[encoded data removed]",
      "text/plain": [
       "<Figure size 432x288 with 1 Axes>"
      ]
     },
     "metadata": {
      "needs_background": "light"
     },
     "output_type": "display_data"
    }
   ],
   "source": [
    "plot_sample(sample)"
   ]
  },
  {
   "cell_type": "code",
   "execution_count": 21,
   "metadata": {},
   "outputs": [
    {
     "data": {
      "text/plain": [
       "10"
      ]
     },
     "execution_count": 21,
     "metadata": {},
     "output_type": "execute_result"
    }
   ],
   "source": [
    "N"
   ]
  },
  {
   "cell_type": "code",
   "execution_count": null,
   "metadata": {},
   "outputs": [],
   "source": []
  }
 ],
 "metadata": {
  "interpreter": {
   "hash": "65ee106e0fc0a0c35979565a6d4193fbfa28e4297680fa48d882d5afe825f490"
  },
  "kernelspec": {
   "display_name": "Python 3.8.11 64-bit ('ex2mcmc': conda)",
   "language": "python",
   "name": "python3811jvsc74a57bd08f75e964b6e4446e610328f65fcaf47604c612f2a49b58592e03c99110a2ed99"
  },
  "language_info": {
   "codemirror_mode": {
    "name": "ipython",
    "version": 3
   },
   "file_extension": ".py",
   "mimetype": "text/x-python",
   "name": "python",
   "nbconvert_exporter": "python",
   "pygments_lexer": "ipython3",
   "version": "3.8.11"
  }
 },
 "nbformat": 4,
 "nbformat_minor": 4
}
