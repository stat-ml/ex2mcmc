{
 "cells": [
  {
   "cell_type": "code",
   "execution_count": 1,
   "source": [
    "%load_ext autoreload\n",
    "%autoreload 2"
   ],
   "outputs": [],
   "metadata": {}
  },
  {
   "cell_type": "code",
   "execution_count": 2,
   "source": [
    "import numpy as np\n",
    "import random\n",
    "import glob\n",
    "from tqdm import tqdm\n",
    "from functools import partial\n",
    "import ot\n",
    "from matplotlib import pyplot as plt\n",
    "from collections import defaultdict\n",
    "import torch, torch.nn as nn\n",
    "from torch.distributions import Normal\n",
    "from easydict import EasyDict as edict"
   ],
   "outputs": [],
   "metadata": {}
  },
  {
   "cell_type": "code",
   "execution_count": 3,
   "source": [
    "from iterative_sir.toy_examples_utils.toy_examples_utils import prepare_swissroll_data\n",
    "from iterative_sir.toy_examples_utils.gan_fc_models import (\n",
    "    Generator_fc, \n",
    "    Discriminator_fc,\n",
    "    )\n",
    "from iterative_sir.sampling_utils.visualization import (\n",
    "                           sample_fake_data,\n",
    "                           plot_discriminator_2d,\n",
    "                           mh_sampling_plot_2d,\n",
    "                           langevin_sampling_plot_2d,\n",
    "                           mala_sampling_plot_2d,\n",
    "                           plot_chain_metrics)\n",
    "from iterative_sir.sampling_utils.ebm_sampling import (\n",
    "                          langevin_sampling,\n",
    "                          mala_dynamics, \n",
    "                          mala_sampling,\n",
    "                          gan_energy,\n",
    "                          IndependentNormal)\n",
    "from iterative_sir.sampling_utils.adaptive_mc import ex2_mcmc_mala\n",
    "from iterative_sir.toy_examples_utils.params_swissroll_wasserstein import (random_seed,\n",
    "                                          train_dataset_size,\n",
    "                                          n_dim,\n",
    "                                          n_layers_d,\n",
    "                                          n_layers_g,\n",
    "                                          n_hid_d,\n",
    "                                          n_hid_g,\n",
    "                                          n_out,\n",
    "                                          device)\n",
    "\n",
    "from iterative_sir.sampling_utils.metrics import Evolution"
   ],
   "outputs": [],
   "metadata": {}
  },
  {
   "cell_type": "code",
   "execution_count": 4,
   "source": [
    "from pathlib import Path\n",
    "\n",
    "figpath = Path('../figs')\n",
    "\n",
    "assert figpath.exists()"
   ],
   "outputs": [],
   "metadata": {}
  },
  {
   "cell_type": "markdown",
   "source": [
    "# Swissroll, Gaussians"
   ],
   "metadata": {}
  },
  {
   "cell_type": "code",
   "execution_count": 5,
   "source": [
    "torch.manual_seed(random_seed)\n",
    "np.random.seed(random_seed)\n",
    "random.seed(random_seed)\n",
    "\n",
    "X_train = prepare_swissroll_data(train_dataset_size)\n",
    "X_train_std = X_train"
   ],
   "outputs": [],
   "metadata": {}
  },
  {
   "cell_type": "code",
   "execution_count": 6,
   "source": [
    "G = Generator_fc(n_dim=n_dim, \n",
    "                 n_layers=n_layers_g,\n",
    "                 n_hid=n_hid_g,\n",
    "                 n_out=n_out,\n",
    "                 non_linear=nn.ReLU(),\n",
    "                 device=device)\n",
    "D = Discriminator_fc(n_in=n_dim, \n",
    "                     n_layers=n_layers_d,\n",
    "                     n_hid=n_hid_d,\n",
    "                     non_linear=nn.ReLU(),\n",
    "                     device=device)"
   ],
   "outputs": [],
   "metadata": {}
  },
  {
   "cell_type": "code",
   "execution_count": 7,
   "source": [
    "# discriminator_regexp = os.path.join(models_swissroll_path, \"*_discriminator.pth\")\n",
    "# generator_regexp = os.path.join(models_swissroll_path, \"*_generator.pth\")\n",
    "# discriminator_name = [f for f in glob.glob(discriminator_regexp)][0]\n",
    "# generator_name = [f for f in glob.glob(generator_regexp)][0]\n"
   ],
   "outputs": [],
   "metadata": {}
  },
  {
   "cell_type": "code",
   "execution_count": 8,
   "source": [
    "gen_path = sorted(Path('../models/models_swissroll/wasserstein').glob('*_generator.pth'))[0]\n",
    "disc_path = sorted(Path('../models/models_swissroll/wasserstein').glob('*_discriminator.pth'))[0]\n",
    "\n",
    "G.load_state_dict(torch.load(gen_path, map_location=device))\n",
    "D.load_state_dict(torch.load(disc_path, map_location=device))"
   ],
   "outputs": [
    {
     "output_type": "execute_result",
     "data": {
      "text/plain": [
       "<All keys matched successfully>"
      ]
     },
     "metadata": {},
     "execution_count": 8
    }
   ],
   "metadata": {}
  },
  {
   "cell_type": "code",
   "execution_count": 9,
   "source": [
    "G = G.to(device)\n",
    "D = D.to(device)\n",
    "G.z_dim = G.n_dim"
   ],
   "outputs": [],
   "metadata": {}
  },
  {
   "cell_type": "code",
   "execution_count": 10,
   "source": [
    "for p in D.parameters():  \n",
    "    p.requires_grad = False\n",
    "for p in G.parameters():  \n",
    "    p.requires_grad = False"
   ],
   "outputs": [],
   "metadata": {}
  },
  {
   "cell_type": "code",
   "execution_count": 11,
   "source": [
    "# batch_size_sample = 10000\n",
    "# x_range = 3.0\n",
    "# y_range = 3.0\n",
    "# #path_to_final_save = Path(figpath, 'swissroll_gan_samples.pdf')\n",
    "# #path_to_save = figpath\n",
    "# path_to_save = None\n",
    "# path_to_final_save = None\n",
    "# sample_fake_data(G, X_train,\n",
    "#                  x_range,\n",
    "#                  y_range,\n",
    "#                  path_to_save = path_to_save,\n",
    "#                  path_to_final_save = path_to_final_save,\n",
    "#                  batch_size_sample = batch_size_sample)"
   ],
   "outputs": [],
   "metadata": {}
  },
  {
   "cell_type": "code",
   "execution_count": 12,
   "source": [
    "# x_range = 3.0\n",
    "# y_range = 3.0\n",
    "# plot_discriminator_2d(D,\n",
    "#                       x_range,\n",
    "#                       y_range,\n",
    "#                       path_to_save=Path(figpath, 'swissroll_gan_discriminator.pdf'),\n",
    "#                       normalize_to_0_1=False,\n",
    "#                       num_points = 700)"
   ],
   "outputs": [],
   "metadata": {}
  },
  {
   "cell_type": "code",
   "execution_count": 13,
   "source": [
    "# n_calib_pts = 10000\n",
    "# type_calibrator = 'iso'\n",
    "# # normalize_to_0_1 = True\n",
    "# n_steps = 1000\n",
    "# mh_sampling_plot_2d(G, \n",
    "#                     D,\n",
    "#                     X_train, \n",
    "#                     n_steps,\n",
    "#                     n_calib_pts = n_calib_pts,\n",
    "#                     batch_size_sample = batch_size_sample,\n",
    "#                     type_calibrator = type_calibrator,\n",
    "#                     path_to_save=Path(figpath, 'swissroll_mhgan.pdf'))"
   ],
   "outputs": [],
   "metadata": {}
  },
  {
   "cell_type": "code",
   "execution_count": 14,
   "source": [
    "# n_calib_pts = 10000\n",
    "# type_calibrator = 'isotonic'\n",
    "# normalize_to_0_1 = False\n",
    "# n_steps = 1000\n",
    "# mh_sampling_plot_2d(G, \n",
    "#                     D,\n",
    "#                     X_train, \n",
    "#                     n_steps,\n",
    "#                     n_calib_pts = n_calib_pts,\n",
    "#                     batch_size_sample = batch_size_sample,\n",
    "#                     type_calibrator = type_calibrator)"
   ],
   "outputs": [],
   "metadata": {}
  },
  {
   "cell_type": "code",
   "execution_count": 15,
   "source": [
    "# n_calib_pts = 10000\n",
    "# type_calibrator = 'linear'\n",
    "# normalize_to_0_1 = False\n",
    "# n_steps = 1000\n",
    "# mh_sampling_plot_2d(G, \n",
    "#                     D,\n",
    "#                     X_train, \n",
    "#                     n_steps,\n",
    "#                     n_calib_pts = n_calib_pts,\n",
    "#                     batch_size_sample = batch_size_sample,\n",
    "#                     type_calibrator = type_calibrator)"
   ],
   "outputs": [],
   "metadata": {}
  },
  {
   "cell_type": "code",
   "execution_count": 16,
   "source": [
    "n_dim = G.n_dim\n",
    "loc = torch.zeros(n_dim).to(G.device)\n",
    "scale = torch.ones(n_dim).to(G.device)\n",
    "normal = Normal(loc, scale)\n",
    "normalize_to_0_1 = True \n",
    "log_prob = True\n",
    "\n",
    "proposal = IndependentNormal(\n",
    "    dim=n_dim,\n",
    "    device=device,\n",
    "    loc=loc,\n",
    "    scale=scale)\n",
    "\n",
    "target = partial(gan_energy, \n",
    "                     generator = G, \n",
    "                     discriminator = D, \n",
    "                     proposal = proposal,\n",
    "                     normalize_to_0_1 = normalize_to_0_1,\n",
    "                     log_prob = log_prob)"
   ],
   "outputs": [],
   "metadata": {}
  },
  {
   "cell_type": "code",
   "execution_count": 17,
   "source": [
    "evols = dict()"
   ],
   "outputs": [],
   "metadata": {}
  },
  {
   "cell_type": "code",
   "execution_count": 28,
   "source": [
    "batch_size = 1 #25 #5000\n",
    "n_steps = 800\n",
    "every = 200"
   ],
   "outputs": [],
   "metadata": {}
  },
  {
   "cell_type": "code",
   "execution_count": 29,
   "source": [
    "target_sample = X_train[np.random.choice(np.arange(X_train.shape[0]), 1000)]\n",
    "\n",
    "grad_step = 1e-1 #3e-3\n",
    "eps_scale = (grad_step * 2) ** 0.5\n",
    "\n",
    "z_last_np, zs = langevin_sampling(target,\n",
    "                               proposal,  \n",
    "                               batch_size=batch_size,\n",
    "                               n = batch_size,\n",
    "                               grad_step = grad_step,\n",
    "                               eps_scale = eps_scale,\n",
    "                               n_steps = n_steps)\n",
    "\n",
    "n_chunks = len(zs[0]) // every\n",
    "zs = zs[0, -n_chunks * every:].reshape((n_chunks, batch_size, -1, zs.shape[-1]))\n",
    "zs_gen = zs.reshape(batch_size, n_chunks, -1, zs.shape[-1])\n",
    "\n",
    "Xs_gen = G(torch.FloatTensor(zs_gen).to(device)).detach().cpu().numpy()\n",
    "#Xs_gen = scaler.inverse_transform(Xs_gen.reshape(-1, Xs_gen.shape[-1])).reshape(Xs_gen.shape)\n",
    "\n",
    "evol = defaultdict(list)\n",
    "for X_gen in Xs_gen:\n",
    "    evolution = Evolution(target_sample,\n",
    "                      target_log_prob=target)\n",
    "    for chunk in X_gen:\n",
    "        evolution.invoke(torch.FloatTensor(chunk))\n",
    "    evol_ = evolution.as_dict()\n",
    "    for k, v in evol_.items():\n",
    "        evol[k].append(v)\n",
    "\n",
    "for k, v in evol.items():\n",
    "    evol[k] = (np.mean(np.array(v), 0), np.std(np.array(v), 0, ddof=1) / np.sqrt(batch_size))\n",
    "evols['ULA'] = evol"
   ],
   "outputs": [
    {
     "output_type": "stream",
     "name": "stderr",
     "text": [
      "100%|██████████| 1/1 [00:00<00:00,  1.05it/s]\n",
      "/home/evgeny/.local/lib/python3.8/site-packages/numpy/core/_methods.py:262: RuntimeWarning: Degrees of freedom <= 0 for slice\n",
      "  ret = _var(a, axis=axis, dtype=dtype, out=out, ddof=ddof,\n",
      "/home/evgeny/.local/lib/python3.8/site-packages/numpy/core/_methods.py:251: RuntimeWarning: invalid value encountered in true_divide\n",
      "  ret = um.true_divide(\n"
     ]
    }
   ],
   "metadata": {}
  },
  {
   "cell_type": "code",
   "execution_count": 30,
   "source": [
    "chain_id = 0 #10\n",
    "x = Xs_gen[chain_id][-500:]\n",
    "plt.figure(figsize=(4,4))\n",
    "plt.scatter(x[..., 0], x[..., 1], alpha=0.5)\n",
    "plt.axis('equal')\n",
    "plt.grid()\n",
    "plt.show()"
   ],
   "outputs": [
    {
     "output_type": "display_data",
     "data": {
      "image/png": "[encoded data removed]",
      "text/plain": [
       "<Figure size 288x288 with 1 Axes>"
      ]
     },
     "metadata": {
      "needs_background": "light"
     }
    }
   ],
   "metadata": {}
  },
  {
   "cell_type": "code",
   "execution_count": 31,
   "source": [
    "from iterative_sir.sampling_utils.adaptive_mc import ex2_mcmc_mala\n",
    "\n",
    "target_sample = X_train[np.random.choice(np.arange(X_train.shape[0]), 1000)]\n",
    "\n",
    "grad_step = 1e-2\n",
    "eps_scale = (grad_step * 2) ** 0.5\n",
    "\n",
    "N = 10\n",
    "corr_coef = 0.9\n",
    "bernoulli_prob_corr = 0.5\n",
    "mala_steps = 1\n",
    "\n",
    "z_0 = proposal.sample((batch_size,))\n",
    "zs = ex2_mcmc_mala(z_0,\n",
    "                    target,\n",
    "                    proposal,\n",
    "                    n_steps,\n",
    "                    N, \n",
    "                    grad_step = grad_step,\n",
    "                    noise_scale = eps_scale,\n",
    "                    corr_coef=corr_coef,\n",
    "                    bernoulli_prob_corr=bernoulli_prob_corr,\n",
    "                    adapt_stepsize=True,\n",
    "                    mala_steps = mala_steps,\n",
    "                    verbose=True)\n",
    "zs = zs[0]\n",
    "n_chunks = len(zs) // every\n",
    "zs = torch.stack(zs, 0).detach().numpy()\n",
    "zs = zs[-n_chunks * every:].reshape((n_chunks, batch_size, -1, zs.shape[-1]))\n",
    "#zs = zs[0, ::every]\n",
    "zs_gen = zs.reshape(batch_size, n_chunks, -1, zs.shape[-1])\n",
    "\n",
    "Xs_gen = G(torch.FloatTensor(zs_gen).to(device)).detach().cpu().numpy()\n",
    "#Xs_gen = scaler.inverse_transform(Xs_gen.reshape(-1, Xs_gen.shape[-1])).reshape(Xs_gen.shape)\n",
    "\n",
    "evol = defaultdict(list)\n",
    "for X_gen in Xs_gen:\n",
    "    evolution = Evolution(target_sample, \n",
    "                      target_log_prob=target)\n",
    "    for chunk in X_gen:\n",
    "        evolution.invoke(torch.FloatTensor(chunk))\n",
    "    evol_ = evolution.as_dict()\n",
    "    for k, v in evol_.items():\n",
    "        evol[k].append(v)\n",
    "\n",
    "for k, v in evol.items():\n",
    "    evol[k] = (np.mean(np.array(v), 0), np.std(np.array(v), 0, ddof=1) / np.sqrt(batch_size))\n",
    "evols['Ex$^2$MCMC-MALA'] = evol"
   ],
   "outputs": [
    {
     "output_type": "stream",
     "name": "stderr",
     "text": [
      "100%|██████████| 800/800 [00:04<00:00, 167.84it/s]\n",
      "/home/evgeny/gans_sampling/iterative_sir/sampling_utils/metrics.py:313: RuntimeWarning: invalid value encountered in multiply\n",
      "  kl = pi_g * (np.log(pi_g) - np.log(pi_d + 1e-10))\n",
      "/home/evgeny/gans_sampling/iterative_sir/sampling_utils/metrics.py:320: RuntimeWarning: invalid value encountered in multiply\n",
      "  pi_g * (np.log(pi_g) - np.log(m))\n",
      "/home/evgeny/gans_sampling/iterative_sir/sampling_utils/metrics.py:313: RuntimeWarning: invalid value encountered in multiply\n",
      "  kl = pi_g * (np.log(pi_g) - np.log(pi_d + 1e-10))\n",
      "/home/evgeny/gans_sampling/iterative_sir/sampling_utils/metrics.py:320: RuntimeWarning: invalid value encountered in multiply\n",
      "  pi_g * (np.log(pi_g) - np.log(m))\n",
      "/home/evgeny/gans_sampling/iterative_sir/sampling_utils/metrics.py:313: RuntimeWarning: invalid value encountered in multiply\n",
      "  kl = pi_g * (np.log(pi_g) - np.log(pi_d + 1e-10))\n",
      "/home/evgeny/gans_sampling/iterative_sir/sampling_utils/metrics.py:320: RuntimeWarning: invalid value encountered in multiply\n",
      "  pi_g * (np.log(pi_g) - np.log(m))\n",
      "/home/evgeny/.local/lib/python3.8/site-packages/numpy/core/_methods.py:262: RuntimeWarning: Degrees of freedom <= 0 for slice\n",
      "  ret = _var(a, axis=axis, dtype=dtype, out=out, ddof=ddof,\n",
      "/home/evgeny/.local/lib/python3.8/site-packages/numpy/core/_methods.py:251: RuntimeWarning: invalid value encountered in true_divide\n",
      "  ret = um.true_divide(\n"
     ]
    }
   ],
   "metadata": {}
  },
  {
   "cell_type": "code",
   "execution_count": 32,
   "source": [
    "from iterative_sir.sampling_utils.adaptive_mc import ex2_mcmc_mala\n",
    "\n",
    "target_sample = X_train[np.random.choice(np.arange(X_train.shape[0]), 1000)]\n",
    "\n",
    "grad_step = 1e-2\n",
    "eps_scale = (grad_step * 2) ** 0.5\n",
    "\n",
    "z_0 = proposal.sample((batch_size,))\n",
    "zs = mala_dynamics(z_0,\n",
    "        target,\n",
    "        proposal,\n",
    "        n_steps,\n",
    "        grad_step = grad_step,\n",
    "        eps_scale = eps_scale,\n",
    "        adapt_stepsize=True)\n",
    "zs = zs[0]\n",
    "n_chunks = len(zs) // every\n",
    "zs = torch.stack(zs, 0).detach().numpy()\n",
    "zs = zs[-n_chunks * every:].reshape((n_chunks, batch_size, -1, zs.shape[-1]))\n",
    "#zs = zs[0, ::every]\n",
    "zs_gen = zs.reshape(batch_size, n_chunks, -1, zs.shape[-1])\n",
    "\n",
    "Xs_gen = G(torch.FloatTensor(zs_gen).to(device)).detach().cpu().numpy()\n",
    "#Xs_gen = scaler.inverse_transform(Xs_gen.reshape(-1, Xs_gen.shape[-1])).reshape(Xs_gen.shape)\n",
    "\n",
    "evol = defaultdict(list)\n",
    "for X_gen in Xs_gen:\n",
    "    evolution = Evolution(target_sample, \n",
    "                      target_log_prob=target)\n",
    "    for chunk in X_gen:\n",
    "        evolution.invoke(torch.FloatTensor(chunk))\n",
    "    evol_ = evolution.as_dict()\n",
    "    for k, v in evol_.items():\n",
    "        evol[k].append(v)\n",
    "\n",
    "for k, v in evol.items():\n",
    "    evol[k] = (np.mean(np.array(v), 0), np.std(np.array(v), 0, ddof=1) / np.sqrt(batch_size))\n",
    "evols['MALA'] = evol"
   ],
   "outputs": [
    {
     "output_type": "stream",
     "name": "stderr",
     "text": [
      "/home/evgeny/gans_sampling/iterative_sir/sampling_utils/metrics.py:313: RuntimeWarning: invalid value encountered in multiply\n",
      "  kl = pi_g * (np.log(pi_g) - np.log(pi_d + 1e-10))\n",
      "/home/evgeny/gans_sampling/iterative_sir/sampling_utils/metrics.py:320: RuntimeWarning: invalid value encountered in multiply\n",
      "  pi_g * (np.log(pi_g) - np.log(m))\n",
      "/home/evgeny/gans_sampling/iterative_sir/sampling_utils/metrics.py:313: RuntimeWarning: invalid value encountered in multiply\n",
      "  kl = pi_g * (np.log(pi_g) - np.log(pi_d + 1e-10))\n",
      "/home/evgeny/gans_sampling/iterative_sir/sampling_utils/metrics.py:320: RuntimeWarning: invalid value encountered in multiply\n",
      "  pi_g * (np.log(pi_g) - np.log(m))\n",
      "/home/evgeny/.local/lib/python3.8/site-packages/numpy/core/_methods.py:262: RuntimeWarning: Degrees of freedom <= 0 for slice\n",
      "  ret = _var(a, axis=axis, dtype=dtype, out=out, ddof=ddof,\n",
      "/home/evgeny/.local/lib/python3.8/site-packages/numpy/core/_methods.py:251: RuntimeWarning: invalid value encountered in true_divide\n",
      "  ret = um.true_divide(\n"
     ]
    }
   ],
   "metadata": {}
  },
  {
   "cell_type": "code",
   "execution_count": 34,
   "source": [
    "chain_id = 0\n",
    "x = Xs_gen[chain_id]\n",
    "plt.figure(figsize=(4,4))\n",
    "plt.scatter(x[2:, ..., 0], x[2:, ..., 1], alpha=0.5)\n",
    "plt.axis('equal')\n",
    "plt.grid()\n",
    "plt.show()"
   ],
   "outputs": [
    {
     "output_type": "display_data",
     "data": {
      "image/png": "[encoded data removed]",
      "text/plain": [
       "<Figure size 288x288 with 1 Axes>"
      ]
     },
     "metadata": {
      "needs_background": "light"
     }
    }
   ],
   "metadata": {}
  },
  {
   "cell_type": "code",
   "execution_count": 30,
   "source": [
    "Xs_gen.shape"
   ],
   "outputs": [
    {
     "output_type": "execute_result",
     "data": {
      "text/plain": [
       "(25, 8, 100, 2)"
      ]
     },
     "metadata": {},
     "execution_count": 30
    }
   ],
   "metadata": {}
  },
  {
   "cell_type": "code",
   "execution_count": 28,
   "source": [
    "plot_chain_metrics(evols, every=every, keys=['emd'], sigma=None)"
   ],
   "outputs": [
    {
     "output_type": "display_data",
     "data": {
      "image/png": "[encoded data removed]",
      "text/plain": [
       "<Figure size 432x432 with 1 Axes>"
      ]
     },
     "metadata": {
      "needs_background": "light"
     }
    }
   ],
   "metadata": {}
  },
  {
   "cell_type": "code",
   "execution_count": null,
   "source": [
    "# grad_step = 1e-4\n",
    "# eps_scale = 1e-3\n",
    "# n_steps = 400\n",
    "# n_batches = 10\n",
    "# langevin_sampling_plot_2d(target_gan,\n",
    "#                           proposal,\n",
    "#                           X_train,  \n",
    "#                           batch_size_sample = batch_size_sample,\n",
    "#                           grad_step = grad_step,\n",
    "#                           eps_scale = eps_scale,\n",
    "#                           n_steps = n_steps,\n",
    "#                           n_batches = n_batches,\n",
    "#                           latent_transform = G,\n",
    "#                           path_to_save=Path(figpath, 'swissroll_ula.pdf'))"
   ],
   "outputs": [],
   "metadata": {}
  },
  {
   "cell_type": "code",
   "execution_count": null,
   "source": [
    "# grad_step = 1e-4\n",
    "# eps_scale = 1e-3\n",
    "# n_steps = 400\n",
    "# n_batches = 10\n",
    "# langevin_sampling_plot_2d(target_gan,\n",
    "#                           proposal,\n",
    "#                           X_train,  \n",
    "#                           batch_size_sample = batch_size_sample,\n",
    "#                           grad_step = grad_step,\n",
    "#                           eps_scale = eps_scale,\n",
    "#                           n_steps = n_steps,\n",
    "#                           n_batches = n_batches,\n",
    "#                           latent_transform = G)"
   ],
   "outputs": [],
   "metadata": {}
  },
  {
   "cell_type": "code",
   "execution_count": null,
   "source": [
    "# target_sample = X_train[np.random.choice(np.arange(X_train.shape[0]), 1000)]\n",
    "\n",
    "# evolution = Evolution(target_sample)\n",
    "\n",
    "# n_steps = 500\n",
    "# every = 50\n",
    "\n",
    "# z_last_np, zs = mala_sampling(target_gan,\n",
    "#                                proposal,  \n",
    "#                                batch_size=batch_size_sample,\n",
    "#                                n = batch_size_sample,\n",
    "#                                grad_step = grad_step,\n",
    "#                                eps_scale = eps_scale,\n",
    "#                                n_steps = n_steps,\n",
    "#                                acceptance_rule = 'Hastings')#,\n",
    "#                                #n_batches = n_batches)\n",
    "\n",
    "# zs = zs[0, ::every]\n",
    "# Xs_gen = zs\n",
    "\n",
    "# Xs_gen = G(torch.FloatTensor(zs, device=device)).detach().cpu().numpy()\n",
    "# #Xs_gen = scaler.inverse_transform(Xs_gen.reshape(-1, Xs_gen.shape[-1])).reshape(Xs_gen.shape)\n",
    "\n",
    "# for X_gen in Xs_gen:\n",
    "#     evolution.invoke(torch.FloatTensor(X_gen))\n",
    "# evol = evolution.as_dict()\n",
    "# evols[f'MALA, MH'] = evol"
   ],
   "outputs": [],
   "metadata": {}
  },
  {
   "cell_type": "code",
   "execution_count": null,
   "source": [
    "# grad_step = 1e-4\n",
    "# eps_scale = (2*grad_step)**0.5\n",
    "# n_steps = 100\n",
    "# n_batches = 10\n",
    "# acceptance_rule = 'Hastings'\n",
    "# mala_sampling_plot_2d(target_gan,\n",
    "#                       proposal,\n",
    "#                       X_train,   \n",
    "#                       batch_size_sample = batch_size_sample,\n",
    "#                       grad_step = grad_step,\n",
    "#                       eps_scale = eps_scale,\n",
    "#                       n_steps = n_steps,\n",
    "#                       n_batches = n_batches,\n",
    "#                       acceptance_rule = acceptance_rule,\n",
    "#                       latent_transform = G)"
   ],
   "outputs": [],
   "metadata": {}
  },
  {
   "cell_type": "code",
   "execution_count": null,
   "source": [
    "# grad_step = 1e-3\n",
    "# eps_scale = 1e-2\n",
    "# n_steps = 100\n",
    "# n_batches = 10\n",
    "# acceptance_rule = 'Barker'\n",
    "# mala_sampling_plot_2d(target_gan,\n",
    "#                       proposal,\n",
    "#                       X_train,  \n",
    "#                       batch_size_sample = batch_size_sample,\n",
    "#                       grad_step = grad_step,\n",
    "#                       eps_scale = eps_scale,\n",
    "#                       n_steps = n_steps,\n",
    "#                       n_batches = n_batches,\n",
    "#                       acceptance_rule = acceptance_rule,\n",
    "#                       latent_transform = G)"
   ],
   "outputs": [],
   "metadata": {}
  },
  {
   "cell_type": "code",
   "execution_count": null,
   "source": [
    "# evols = dict()"
   ],
   "outputs": [],
   "metadata": {}
  },
  {
   "cell_type": "code",
   "execution_count": null,
   "source": [
    "# target_sample = X_train[np.random.choice(np.arange(X_train.shape[0]), 1000)]\n",
    "\n",
    "# evolution = Evolution(target_sample)\n",
    "\n",
    "# n_steps = 500\n",
    "# every = 50\n",
    "\n",
    "# z_last_np, zs = mala_sampling(target_gan,\n",
    "#                                proposal,  \n",
    "#                                batch_size=batch_size_sample,\n",
    "#                                n = batch_size_sample,\n",
    "#                                grad_step = grad_step,\n",
    "#                                eps_scale = eps_scale,\n",
    "#                                n_steps = n_steps,\n",
    "#                                acceptance_rule = 'Hastings')#,\n",
    "#                                #n_batches = n_batches)\n",
    "\n",
    "# zs = zs[0, ::every]\n",
    "# Xs_gen = zs\n",
    "\n",
    "# Xs_gen = G(torch.FloatTensor(zs, device=device)).detach().cpu().numpy()\n",
    "# #Xs_gen = scaler.inverse_transform(Xs_gen.reshape(-1, Xs_gen.shape[-1])).reshape(Xs_gen.shape)\n",
    "\n",
    "# for X_gen in Xs_gen:\n",
    "#     evolution.invoke(torch.FloatTensor(X_gen))\n",
    "# evol = evolution.as_dict()\n",
    "# evols[f'MALA, MH'] = evol"
   ],
   "outputs": [],
   "metadata": {}
  },
  {
   "cell_type": "code",
   "execution_count": null,
   "source": [
    "# plot_chain_metrics(**evols, every=every, savepath=Path(figpath, '2d_swissroll_gan_chain_metrics.pdf'))"
   ],
   "outputs": [],
   "metadata": {}
  }
 ],
 "metadata": {
  "kernelspec": {
   "name": "python3",
   "display_name": "Python 3.8.10 64-bit ('gans_sampling': conda)"
  },
  "language_info": {
   "codemirror_mode": {
    "name": "ipython",
    "version": 3
   },
   "file_extension": ".py",
   "mimetype": "text/x-python",
   "name": "python",
   "nbconvert_exporter": "python",
   "pygments_lexer": "ipython3",
   "version": "3.8.10"
  },
  "interpreter": {
   "hash": "65ee106e0fc0a0c35979565a6d4193fbfa28e4297680fa48d882d5afe825f490"
  }
 },
 "nbformat": 4,
 "nbformat_minor": 4
}
