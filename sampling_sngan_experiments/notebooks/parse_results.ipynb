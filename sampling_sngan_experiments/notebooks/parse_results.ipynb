{
 "cells": [
  {
   "cell_type": "code",
   "execution_count": 1,
   "source": [
    "from pathlib import Path\n",
    "import tabulate\n",
    "import pickle\n",
    "\n",
    "res_root = Path('../dump')"
   ],
   "outputs": [],
   "metadata": {}
  },
  {
   "cell_type": "code",
   "execution_count": 2,
   "source": [
    "def leave_cols(evols, cols):\n",
    "    evols_ = dict()\n",
    "    for k in evols.keys():\n",
    "        evols_[k] = {x:f'{v[0][0]:.3f}' for x, v in evols[k].items() if x in cols}\n",
    "    return evols_"
   ],
   "outputs": [],
   "metadata": {}
  },
  {
   "cell_type": "code",
   "execution_count": null,
   "source": [],
   "outputs": [],
   "metadata": {}
  },
  {
   "cell_type": "code",
   "execution_count": 15,
   "source": [
    "evols = pickle.load(Path(res_root, 'gan_swissroll_metrics_multi.pkl').open(\"rb\"))"
   ],
   "outputs": [],
   "metadata": {}
  },
  {
   "cell_type": "code",
   "execution_count": 23,
   "source": [
    "cols = ['tv', 'emd'] #['mode_std', 'n_found_modes', 'emd']"
   ],
   "outputs": [],
   "metadata": {}
  },
  {
   "cell_type": "code",
   "execution_count": 25,
   "source": [
    "evols_ = leave_cols(evols, cols)"
   ],
   "outputs": [],
   "metadata": {}
  },
  {
   "cell_type": "code",
   "execution_count": 20,
   "source": [
    "evols_"
   ],
   "outputs": [
    {
     "output_type": "execute_result",
     "data": {
      "text/plain": [
       "{'GAN': {'emd': '0.026', 'tv': '0.054'},\n",
       " 'ULA': {'emd': '0.024', 'tv': '0.050'},\n",
       " 'MALA': {'emd': '0.024', 'tv': '0.054'},\n",
       " 'Ex$^2$MCMC': {'emd': '0.035', 'tv': '0.057'}}"
      ]
     },
     "metadata": {},
     "execution_count": 20
    }
   ],
   "metadata": {}
  },
  {
   "cell_type": "code",
   "execution_count": 28,
   "source": [
    "evols = pickle.load(Path(res_root, 'gan_gaussians_2d_metrics_multi.pkl').open(\"rb\"))"
   ],
   "outputs": [],
   "metadata": {}
  },
  {
   "cell_type": "code",
   "execution_count": 29,
   "source": [
    "evols_ = leave_cols(evols, ['mode_std', 'n_found_modes', 'emd'])"
   ],
   "outputs": [],
   "metadata": {}
  },
  {
   "cell_type": "code",
   "execution_count": 30,
   "source": [
    "evols_"
   ],
   "outputs": [
    {
     "output_type": "execute_result",
     "data": {
      "text/plain": [
       "{'GAN': {'mode_std': '0.057', 'emd': '0.080', 'n_found_modes': '25.000'},\n",
       " 'ULA': {'mode_std': '0.041', 'emd': '0.106', 'n_found_modes': '25.000'},\n",
       " 'MALA': {'mode_std': '0.057', 'emd': '0.075', 'n_found_modes': '25.000'},\n",
       " 'Ex$^2$MCMC': {'mode_std': '0.056',\n",
       "  'emd': '0.192',\n",
       "  'n_found_modes': '25.000'}}"
      ]
     },
     "metadata": {},
     "execution_count": 30
    }
   ],
   "metadata": {}
  },
  {
   "cell_type": "code",
   "execution_count": 3,
   "source": [
    "evols = pickle.load(Path(res_root, 'gan_gaussians_2d_metrics.pkl').open(\"rb\"))"
   ],
   "outputs": [],
   "metadata": {}
  },
  {
   "cell_type": "code",
   "execution_count": 4,
   "source": [
    "evols_ = leave_cols(evols, ['mode_std', 'n_found_modes', 'emd'])"
   ],
   "outputs": [],
   "metadata": {}
  },
  {
   "cell_type": "code",
   "execution_count": 5,
   "source": [
    "evols_"
   ],
   "outputs": [
    {
     "output_type": "execute_result",
     "data": {
      "text/plain": [
       "{'GAN': {'mode_std': '0.021', 'emd': '1.068', 'n_found_modes': '4.000'},\n",
       " 'ULA': {'mode_std': '0.036', 'emd': '8.261', 'n_found_modes': '1.100'},\n",
       " 'MALA': {'mode_std': '0.050', 'emd': '0.233', 'n_found_modes': '24.950'},\n",
       " 'Ex$^2$MCMC': {'mode_std': '0.055',\n",
       "  'emd': '0.174',\n",
       "  'n_found_modes': '25.000'}}"
      ]
     },
     "metadata": {},
     "execution_count": 5
    }
   ],
   "metadata": {}
  },
  {
   "cell_type": "code",
   "execution_count": null,
   "source": [],
   "outputs": [],
   "metadata": {}
  },
  {
   "cell_type": "code",
   "execution_count": null,
   "source": [],
   "outputs": [],
   "metadata": {}
  }
 ],
 "metadata": {
  "orig_nbformat": 4,
  "language_info": {
   "name": "python",
   "version": "3.8.11",
   "mimetype": "text/x-python",
   "codemirror_mode": {
    "name": "ipython",
    "version": 3
   },
   "pygments_lexer": "ipython3",
   "nbconvert_exporter": "python",
   "file_extension": ".py"
  },
  "kernelspec": {
   "name": "python3",
   "display_name": "Python 3.8.11 64-bit ('ex2mcmc': conda)"
  },
  "interpreter": {
   "hash": "8f75e964b6e4446e610328f65fcaf47604c612f2a49b58592e03c99110a2ed99"
  }
 },
 "nbformat": 4,
 "nbformat_minor": 2
}
